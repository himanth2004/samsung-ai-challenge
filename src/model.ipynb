{
 "cells": [
  {
   "cell_type": "code",
   "execution_count": null,
   "id": "5e2a07fe",
   "metadata": {},
   "outputs": [],
   "source": []
  },
  {
   "cell_type": "code",
   "execution_count": 4,
   "id": "820d3b37",
   "metadata": {},
   "outputs": [],
   "source": [
    "import pandas as pd\n",
    "import numpy as np\n",
    "import torch\n",
    "import torch.nn as nn\n",
    "import torch.nn.functional as F\n",
    "from sklearn.preprocessing import LabelEncoder\n",
    "from sklearn.model_selection import train_test_split\n",
    "from sklearn.metrics import classification_report, confusion_matrix\n",
    "import seaborn as sns\n",
    "import matplotlib.pyplot as plt\n",
    "from torch.utils.data import TensorDataset, DataLoader"
   ]
  },
  {
   "cell_type": "code",
   "execution_count": 5,
   "id": "c4e96e30",
   "metadata": {},
   "outputs": [],
   "source": [
    "import pandas as pd\n",
    "import numpy as np\n",
    "import torch\n",
    "import torch.nn as nn\n",
    "from torch.utils.data import DataLoader, TensorDataset\n",
    "from sklearn.preprocessing import LabelEncoder\n",
    "from sklearn.utils.class_weight import compute_class_weight\n",
    "from sklearn.metrics import classification_report, confusion_matrix, roc_auc_score, roc_curve\n",
    "import matplotlib.pyplot as plt\n",
    "import seaborn as sns\n",
    "from tqdm import tqdm\n",
    "import math"
   ]
  },
  {
   "cell_type": "code",
   "execution_count": 6,
   "id": "7f0c327e",
   "metadata": {},
   "outputs": [
    {
     "name": "stdout",
     "output_type": "stream",
     "text": [
      "Combined shape: (130742, 7)\n",
      "   record timestamp  client timestamp    button state    x    y Username\n",
      "0               0.0             0.000  NoButton  Move  126  337    User7\n",
      "1               0.0             0.016  NoButton  Move  129  337    User7\n",
      "2               0.0             0.032  NoButton  Move  136  337    User7\n",
      "3               0.0             0.047  NoButton  Move  155  339    User7\n",
      "4               0.0             0.063  NoButton  Move  185  340    User7\n",
      "        record timestamp  client timestamp    button state    x    y Username\n",
      "0                  0.000             0.000  NoButton  Move  126  337    User7\n",
      "1                  0.000             0.016  NoButton  Move  129  337    User7\n",
      "2                  0.000             0.032  NoButton  Move  136  337    User7\n",
      "3                  0.000             0.047  NoButton  Move  155  339    User7\n",
      "4                  0.000             0.063  NoButton  Move  185  340    User7\n",
      "...                  ...               ...       ...   ...  ...  ...      ...\n",
      "130737          2997.917          2997.497  NoButton  Move  245  317    User9\n",
      "130738          2997.917          2997.513  NoButton  Move  246  318    User9\n",
      "130739          2997.918          2997.513  NoButton  Move  247  318    User9\n",
      "130740          2997.918          2997.528  NoButton  Move  248  319    User9\n",
      "130741          2997.918          2997.528  NoButton  Move  248  320    User9\n",
      "\n",
      "[130742 rows x 7 columns]\n"
     ]
    }
   ],
   "source": [
    "import pandas as pd\n",
    "\n",
    "# Load CSVs\n",
    "df9 = pd.read_csv(\"User9/session_0335985747.csv\")\n",
    "df7 = pd.read_csv(\"User7/session_0041905381.csv\")\n",
    "\n",
    "# Inject username labels (required for classification)\n",
    "df7['Username'] = 'User7'\n",
    "df9['Username'] = 'User9'\n",
    "\n",
    "# Combine both dataframes\n",
    "df = pd.concat([df7, df9], ignore_index=True)\n",
    "\n",
    "# Display\n",
    "print(\"Combined shape:\", df.shape)\n",
    "print(df.head())\n",
    "print(df)"
   ]
  },
  {
   "cell_type": "code",
   "execution_count": 7,
   "id": "898465d7",
   "metadata": {},
   "outputs": [
    {
     "name": "stdout",
     "output_type": "stream",
     "text": [
      "Label mapping: {'User7': np.int64(0), 'User9': np.int64(1)}\n"
     ]
    }
   ],
   "source": [
    "# Drop rows with missing values\n",
    "df = df.dropna(subset=['x', 'y', 'Username'])\n",
    "\n",
    "# Normalize x and y (optional but recommended)\n",
    "df['x'] = df['x'].astype(float)\n",
    "df['y'] = df['y'].astype(float)\n",
    "\n",
    "from sklearn.preprocessing import StandardScaler\n",
    "scaler = StandardScaler()\n",
    "df[['x', 'y']] = scaler.fit_transform(df[['x', 'y']])\n",
    "\n",
    "# Encode user labels\n",
    "label_encoder = LabelEncoder()\n",
    "df['UserEncoded'] = label_encoder.fit_transform(df['Username'])\n",
    "\n",
    "print(\"Label mapping:\", dict(zip(label_encoder.classes_, label_encoder.transform(label_encoder.classes_))))"
   ]
  },
  {
   "cell_type": "code",
   "execution_count": 8,
   "id": "b5cb2dd1",
   "metadata": {},
   "outputs": [
    {
     "name": "stdout",
     "output_type": "stream",
     "text": [
      "['record timestamp', 'client timestamp', 'button', 'state', 'x', 'y', 'Username', 'UserEncoded']\n"
     ]
    }
   ],
   "source": [
    "print(df.columns.tolist())"
   ]
  },
  {
   "cell_type": "code",
   "execution_count": 9,
   "id": "b56a623a",
   "metadata": {},
   "outputs": [
    {
     "name": "stderr",
     "output_type": "stream",
     "text": [
      "  0%|          | 325/130692 [00:00<00:40, 3247.72it/s]"
     ]
    },
    {
     "name": "stderr",
     "output_type": "stream",
     "text": [
      "100%|██████████| 130692/130692 [00:43<00:00, 3008.66it/s]\n",
      "C:\\Users\\DELL\\AppData\\Local\\Temp\\ipykernel_6012\\535820563.py:35: UserWarning: Creating a tensor from a list of numpy.ndarrays is extremely slow. Please consider converting the list to a single numpy.ndarray with numpy.array() before converting to a tensor. (Triggered internally at C:\\actions-runner\\_work\\pytorch\\pytorch\\pytorch\\torch\\csrc\\utils\\tensor_new.cpp:256.)\n",
      "  X = torch.tensor(X, dtype=torch.float32)  # Shape: [N, SEQ_LEN, 2]\n"
     ]
    },
    {
     "name": "stdout",
     "output_type": "stream",
     "text": [
      "✅ Final Tensor Shapes: X = torch.Size([104969, 50, 2]), y = torch.Size([104969])\n"
     ]
    }
   ],
   "source": [
    "import torch\n",
    "from sklearn.preprocessing import LabelEncoder\n",
    "from tqdm import tqdm\n",
    "\n",
    "SEQ_LEN = 50\n",
    "X, y = [], []\n",
    "\n",
    "# ✅ Use all available data from each user (no head())\n",
    "limited_df = pd.concat([\n",
    "    df[df['Username'] == 'User7'],\n",
    "    df[df['Username'] == 'User9']\n",
    "], ignore_index=True)\n",
    "\n",
    "# Optional: sort by timestamp to preserve movement order\n",
    "limited_df = limited_df.sort_values(by='record timestamp').reset_index(drop=True)\n",
    "\n",
    "# Re-encode user labels (if not done already)\n",
    "user_encoder = LabelEncoder()\n",
    "limited_df['UserEncoded'] = user_encoder.fit_transform(limited_df['Username'])\n",
    "\n",
    "# Define feature columns\n",
    "features = ['x', 'y']\n",
    "\n",
    "# Build sequences of SEQ_LEN\n",
    "for i in tqdm(range(len(limited_df) - SEQ_LEN)):\n",
    "    segment = limited_df.iloc[i:i+SEQ_LEN]\n",
    "    users = segment['UserEncoded']\n",
    "\n",
    "    if len(set(users)) == 1:  # Sequence must belong to one user\n",
    "        coords = segment[features].values\n",
    "        X.append(coords)\n",
    "        y.append(users.iloc[0])\n",
    "\n",
    "# Convert to tensors\n",
    "X = torch.tensor(X, dtype=torch.float32)  # Shape: [N, SEQ_LEN, 2]\n",
    "y = torch.tensor(y, dtype=torch.long)\n",
    "\n",
    "print(f\"✅ Final Tensor Shapes: X = {X.shape}, y = {y.shape}\")"
   ]
  },
  {
   "cell_type": "code",
   "execution_count": 10,
   "id": "33c54012",
   "metadata": {},
   "outputs": [
    {
     "name": "stdout",
     "output_type": "stream",
     "text": [
      "✅ Using device: cpu\n"
     ]
    }
   ],
   "source": [
    "import pandas as pd\n",
    "import numpy as np\n",
    "import torch\n",
    "from sklearn.preprocessing import LabelEncoder\n",
    "from sklearn.model_selection import train_test_split\n",
    "from sklearn.utils.class_weight import compute_class_weight\n",
    "from torch.utils.data import TensorDataset, DataLoader\n",
    "from tqdm import tqdm\n",
    "import torch.nn as nn\n",
    "import math\n",
    "import matplotlib.pyplot as plt\n",
    "import seaborn as sns\n",
    "\n",
    "device = torch.device(\"cuda\" if torch.cuda.is_available() else \"cpu\")\n",
    "print(\"✅ Using device:\", device)"
   ]
  },
  {
   "cell_type": "code",
   "execution_count": 11,
   "id": "94bda936",
   "metadata": {},
   "outputs": [
    {
     "name": "stdout",
     "output_type": "stream",
     "text": [
      "Class Weights: tensor([0.7788, 1.3966])\n"
     ]
    }
   ],
   "source": [
    "X_np = X.numpy()\n",
    "y_np = y.numpy()\n",
    "\n",
    "# Stratified split\n",
    "X_train, X_val, y_train, y_val = train_test_split(\n",
    "    X_np, y_np, test_size=0.2, stratify=y_np, random_state=42\n",
    ")\n",
    "\n",
    "X_train = torch.tensor(X_train, dtype=torch.float32)\n",
    "X_val = torch.tensor(X_val, dtype=torch.float32)\n",
    "y_train = torch.tensor(y_train, dtype=torch.long)\n",
    "y_val = torch.tensor(y_val, dtype=torch.long)\n",
    "\n",
    "train_ds = TensorDataset(X_train, y_train)\n",
    "val_ds = TensorDataset(X_val, y_val)\n",
    "\n",
    "train_dl = DataLoader(train_ds, batch_size=32, shuffle=True)\n",
    "val_dl = DataLoader(val_ds, batch_size=32)\n",
    "\n",
    "# Compute class weights\n",
    "class_weights = compute_class_weight(class_weight='balanced', classes=np.unique(y_np), y=y_np)\n",
    "class_weights = torch.tensor(class_weights, dtype=torch.float32).to(device)\n",
    "print(\"Class Weights:\", class_weights)"
   ]
  },
  {
   "cell_type": "code",
   "execution_count": 12,
   "id": "5307d574",
   "metadata": {},
   "outputs": [],
   "source": [
    "class PositionalEncoding(nn.Module):\n",
    "    def __init__(self, d_model, max_len=500):\n",
    "        super().__init__()\n",
    "        pe = torch.zeros(max_len, d_model)\n",
    "        pos = torch.arange(0, max_len).unsqueeze(1)\n",
    "        div = torch.exp(torch.arange(0, d_model, 2) * -math.log(10000.0) / d_model)\n",
    "        pe[:, 0::2] = torch.sin(pos * div)\n",
    "        pe[:, 1::2] = torch.cos(pos * div)\n",
    "        self.register_buffer('pe', pe.unsqueeze(0))\n",
    "\n",
    "    def forward(self, x):\n",
    "        return x + self.pe[:, :x.size(1)]\n",
    "\n",
    "class MultiHeadAttention(nn.Module):\n",
    "    def __init__(self, d_model, num_heads):\n",
    "        super().__init__()\n",
    "        assert d_model % num_heads == 0\n",
    "        self.d_k = d_model // num_heads\n",
    "        self.q = nn.Linear(d_model, d_model)\n",
    "        self.k = nn.Linear(d_model, d_model)\n",
    "        self.v = nn.Linear(d_model, d_model)\n",
    "        self.out = nn.Linear(d_model, d_model)\n",
    "\n",
    "    def forward(self, x):\n",
    "        B, T, D = x.shape\n",
    "        H = D // self.d_k\n",
    "        Q = self.q(x).view(B, T, H, self.d_k).transpose(1, 2)\n",
    "        K = self.k(x).view(B, T, H, self.d_k).transpose(1, 2)\n",
    "        V = self.v(x).view(B, T, H, self.d_k).transpose(1, 2)\n",
    "        scores = Q @ K.transpose(-2, -1) / math.sqrt(self.d_k)\n",
    "        weights = torch.softmax(scores, dim=-1)\n",
    "        output = weights @ V\n",
    "        output = output.transpose(1, 2).contiguous().view(B, T, D)\n",
    "        return self.out(output)\n",
    "\n",
    "class TransformerBlock(nn.Module):\n",
    "    def __init__(self, d_model, num_heads, ff_dim=128):\n",
    "        super().__init__()\n",
    "        self.attn = MultiHeadAttention(d_model, num_heads)\n",
    "        self.norm1 = nn.LayerNorm(d_model)\n",
    "        self.ff = nn.Sequential(\n",
    "            nn.Linear(d_model, ff_dim),\n",
    "            nn.ReLU(),\n",
    "            nn.Linear(ff_dim, d_model)\n",
    "        )\n",
    "        self.norm2 = nn.LayerNorm(d_model)\n",
    "\n",
    "    def forward(self, x):\n",
    "        x = self.norm1(x + self.attn(x))\n",
    "        x = self.norm2(x + self.ff(x))\n",
    "        return x\n",
    "\n",
    "class MouseDynamicsClassifier(nn.Module):\n",
    "    def __init__(self, input_dim=2, d_model=64, num_heads=4, num_layers=2, num_classes=2):\n",
    "        super().__init__()\n",
    "        self.input_proj = nn.Linear(input_dim, d_model)\n",
    "        self.pos_enc = PositionalEncoding(d_model)\n",
    "        self.transformer_blocks = nn.Sequential(*[TransformerBlock(d_model, num_heads) for _ in range(num_layers)])\n",
    "        self.classifier = nn.Linear(d_model, num_classes)\n",
    "\n",
    "    def forward(self, x):\n",
    "        x = self.input_proj(x)\n",
    "        x = self.pos_enc(x)\n",
    "        x = self.transformer_blocks(x)\n",
    "        x = x.mean(dim=1)  # Global mean pooling\n",
    "        return self.classifier(x)\n",
    "\n",
    "model = MouseDynamicsClassifier().to(device)\n",
    "loss_fn = nn.CrossEntropyLoss(weight=class_weights)\n",
    "optimizer = torch.optim.Adam(model.parameters(), lr=1e-3)"
   ]
  },
  {
   "cell_type": "code",
   "execution_count": 13,
   "id": "d3e3f656",
   "metadata": {},
   "outputs": [
    {
     "name": "stderr",
     "output_type": "stream",
     "text": [
      "Epoch 1/10: 100%|██████████| 2625/2625 [01:30<00:00, 29.12it/s]\n"
     ]
    },
    {
     "name": "stdout",
     "output_type": "stream",
     "text": [
      "✅ Epoch 1 | Loss: 1077.6662 | Val Acc: 85.87%\n"
     ]
    },
    {
     "name": "stderr",
     "output_type": "stream",
     "text": [
      "Epoch 2/10: 100%|██████████| 2625/2625 [01:40<00:00, 26.12it/s]\n"
     ]
    },
    {
     "name": "stdout",
     "output_type": "stream",
     "text": [
      "✅ Epoch 2 | Loss: 799.0245 | Val Acc: 88.30%\n"
     ]
    },
    {
     "name": "stderr",
     "output_type": "stream",
     "text": [
      "Epoch 3/10: 100%|██████████| 2625/2625 [01:27<00:00, 29.87it/s]\n"
     ]
    },
    {
     "name": "stdout",
     "output_type": "stream",
     "text": [
      "✅ Epoch 3 | Loss: 682.6214 | Val Acc: 89.97%\n"
     ]
    },
    {
     "name": "stderr",
     "output_type": "stream",
     "text": [
      "Epoch 4/10: 100%|██████████| 2625/2625 [01:45<00:00, 24.83it/s]\n"
     ]
    },
    {
     "name": "stdout",
     "output_type": "stream",
     "text": [
      "✅ Epoch 4 | Loss: 603.9537 | Val Acc: 89.22%\n"
     ]
    },
    {
     "name": "stderr",
     "output_type": "stream",
     "text": [
      "Epoch 5/10: 100%|██████████| 2625/2625 [01:57<00:00, 22.42it/s]\n"
     ]
    },
    {
     "name": "stdout",
     "output_type": "stream",
     "text": [
      "✅ Epoch 5 | Loss: 548.2752 | Val Acc: 91.59%\n"
     ]
    },
    {
     "name": "stderr",
     "output_type": "stream",
     "text": [
      "Epoch 6/10: 100%|██████████| 2625/2625 [01:31<00:00, 28.72it/s]\n"
     ]
    },
    {
     "name": "stdout",
     "output_type": "stream",
     "text": [
      "✅ Epoch 6 | Loss: 499.1987 | Val Acc: 91.57%\n"
     ]
    },
    {
     "name": "stderr",
     "output_type": "stream",
     "text": [
      "Epoch 7/10: 100%|██████████| 2625/2625 [02:10<00:00, 20.08it/s]\n"
     ]
    },
    {
     "name": "stdout",
     "output_type": "stream",
     "text": [
      "✅ Epoch 7 | Loss: 472.7926 | Val Acc: 91.86%\n"
     ]
    },
    {
     "name": "stderr",
     "output_type": "stream",
     "text": [
      "Epoch 8/10: 100%|██████████| 2625/2625 [01:45<00:00, 24.87it/s]\n"
     ]
    },
    {
     "name": "stdout",
     "output_type": "stream",
     "text": [
      "✅ Epoch 8 | Loss: 438.0538 | Val Acc: 92.46%\n"
     ]
    },
    {
     "name": "stderr",
     "output_type": "stream",
     "text": [
      "Epoch 9/10: 100%|██████████| 2625/2625 [01:34<00:00, 27.64it/s]\n"
     ]
    },
    {
     "name": "stdout",
     "output_type": "stream",
     "text": [
      "✅ Epoch 9 | Loss: 405.5869 | Val Acc: 94.14%\n"
     ]
    },
    {
     "name": "stderr",
     "output_type": "stream",
     "text": [
      "Epoch 10/10: 100%|██████████| 2625/2625 [01:33<00:00, 28.20it/s]\n"
     ]
    },
    {
     "name": "stdout",
     "output_type": "stream",
     "text": [
      "✅ Epoch 10 | Loss: 384.8994 | Val Acc: 94.16%\n"
     ]
    }
   ],
   "source": [
    "def train(model, train_dl, val_dl, epochs=10):\n",
    "    for epoch in range(epochs):\n",
    "        model.train()\n",
    "        total_loss = 0\n",
    "        for xb, yb in tqdm(train_dl, desc=f\"Epoch {epoch+1}/{epochs}\"):\n",
    "            xb, yb = xb.to(device), yb.to(device)\n",
    "            preds = model(xb)\n",
    "            loss = loss_fn(preds, yb)\n",
    "            optimizer.zero_grad()\n",
    "            loss.backward()\n",
    "            optimizer.step()\n",
    "            total_loss += loss.item()\n",
    "        \n",
    "        model.eval()\n",
    "        correct = 0\n",
    "        total = 0\n",
    "        with torch.no_grad():\n",
    "            for xb, yb in val_dl:\n",
    "                xb, yb = xb.to(device), yb.to(device)\n",
    "                preds = model(xb)\n",
    "                correct += (preds.argmax(1) == yb).sum().item()\n",
    "                total += yb.size(0)\n",
    "        acc = correct / total\n",
    "        print(f\"✅ Epoch {epoch+1} | Loss: {total_loss:.4f} | Val Acc: {acc:.2%}\")\n",
    "\n",
    "train(model, train_dl, val_dl, epochs=10)"
   ]
  },
  {
   "cell_type": "code",
   "execution_count": 14,
   "id": "8238e015",
   "metadata": {},
   "outputs": [
    {
     "name": "stdout",
     "output_type": "stream",
     "text": [
      "              precision    recall  f1-score   support\n",
      "\n",
      "       User7       0.97      0.94      0.95     13478\n",
      "       User9       0.89      0.95      0.92      7516\n",
      "\n",
      "    accuracy                           0.94     20994\n",
      "   macro avg       0.93      0.94      0.94     20994\n",
      "weighted avg       0.94      0.94      0.94     20994\n",
      "\n"
     ]
    },
    {
     "data": {
      "image/png": "[encoded data removed]",
      "text/plain": [
       "<Figure size 600x500 with 2 Axes>"
      ]
     },
     "metadata": {},
     "output_type": "display_data"
    }
   ],
   "source": [
    "from sklearn.metrics import classification_report, confusion_matrix\n",
    "\n",
    "model.eval()\n",
    "y_true, y_pred = [], []\n",
    "\n",
    "with torch.no_grad():\n",
    "    for xb, yb in val_dl:\n",
    "        xb = xb.to(device)\n",
    "        preds = model(xb)\n",
    "        y_true.extend(yb.tolist())\n",
    "        y_pred.extend(preds.argmax(1).cpu().tolist())\n",
    "\n",
    "# Report\n",
    "print(classification_report(y_true, y_pred, target_names=user_encoder.classes_))\n",
    "\n",
    "# Confusion Matrix\n",
    "cm = confusion_matrix(y_true, y_pred)\n",
    "plt.figure(figsize=(6,5))\n",
    "sns.heatmap(cm, annot=True, fmt='d', cmap='Blues', xticklabels=user_encoder.classes_, yticklabels=user_encoder.classes_)\n",
    "plt.xlabel(\"Predicted\")\n",
    "plt.ylabel(\"True\")\n",
    "plt.title(\"Confusion Matrix\")\n",
    "plt.show()"
   ]
  },
  {
   "cell_type": "code",
   "execution_count": 15,
   "id": "5a5d29c3",
   "metadata": {},
   "outputs": [
    {
     "data": {
      "image/png": "[encoded data removed]",
      "text/plain": [
       "<Figure size 800x600 with 1 Axes>"
      ]
     },
     "metadata": {},
     "output_type": "display_data"
    }
   ],
   "source": [
    "y_probs = []\n",
    "with torch.no_grad():\n",
    "    for xb, _ in val_dl:\n",
    "        xb = xb.to(device)\n",
    "        probs = torch.softmax(model(xb), dim=1)[:, 1]  # class 1\n",
    "        y_probs.extend(probs.cpu().tolist())\n",
    "\n",
    "auc = roc_auc_score(y_true, y_probs)\n",
    "fpr, tpr, _ = roc_curve(y_true, y_probs)\n",
    "\n",
    "plt.figure(figsize=(8, 6))\n",
    "plt.plot(fpr, tpr, label=f'ROC (AUC = {auc:.4f})', color='blue')\n",
    "plt.plot([0, 1], [0, 1], '--', color='gray')\n",
    "plt.xlabel('False Positive Rate')\n",
    "plt.ylabel('True Positive Rate')\n",
    "plt.title('ROC Curve')\n",
    "plt.legend()\n",
    "plt.grid(True)\n",
    "plt.show()"
   ]
  },
  {
   "cell_type": "code",
   "execution_count": 16,
   "id": "5c84ebcc",
   "metadata": {},
   "outputs": [
    {
     "name": "stdout",
     "output_type": "stream",
     "text": [
      "\n",
      "🔍 Predictions on Random 5 Samples Per User\n",
      "\n",
      "--- User: User7 ---\n",
      "True: User7 | Predicted: User7\n",
      "True: User7 | Predicted: User7\n",
      "True: User7 | Predicted: User7\n",
      "True: User7 | Predicted: User7\n",
      "True: User7 | Predicted: User7\n",
      "\n",
      "--- User: User9 ---\n",
      "True: User9 | Predicted: User9\n",
      "True: User9 | Predicted: User7\n",
      "True: User9 | Predicted: User9\n",
      "True: User9 | Predicted: User9\n",
      "True: User9 | Predicted: User9\n",
      "\n"
     ]
    }
   ],
   "source": [
    "import random\n",
    "\n",
    "model.eval()\n",
    "device = torch.device(\"cuda\" if torch.cuda.is_available() else \"cpu\")\n",
    "\n",
    "# Number of test samples per user\n",
    "NUM_SAMPLES = 5\n",
    "\n",
    "print(\"\\n🔍 Predictions on Random 5 Samples Per User\\n\")\n",
    "\n",
    "for user_name in user_encoder.classes_:\n",
    "    user_label = user_encoder.transform([user_name])[0]\n",
    "    \n",
    "    # Filter original dataframe for the user\n",
    "    user_df = df[df['UserEncoded'] == user_label].reset_index(drop=True)\n",
    "\n",
    "    print(f\"--- User: {user_name} ---\")\n",
    "\n",
    "    for _ in range(NUM_SAMPLES):\n",
    "        # Pick a valid random index for SEQ_LEN window\n",
    "        max_start = len(user_df) - SEQ_LEN\n",
    "        if max_start <= 0:\n",
    "            print(\"Not enough data for\", user_name)\n",
    "            break\n",
    "\n",
    "        start_idx = random.randint(0, max_start)\n",
    "        segment = user_df.iloc[start_idx:start_idx+SEQ_LEN][['x', 'y']].values\n",
    "\n",
    "        sample = torch.tensor([segment], dtype=torch.float32).to(device)\n",
    "\n",
    "        with torch.no_grad():\n",
    "            pred = model(sample)\n",
    "            pred_class = torch.argmax(pred, dim=1).item()\n",
    "\n",
    "        pred_user = user_encoder.inverse_transform([pred_class])[0]\n",
    "        print(f\"True: {user_name} | Predicted: {pred_user}\")\n",
    "    print()"
   ]
  },
  {
   "cell_type": "code",
   "execution_count": 17,
   "id": "25943d71",
   "metadata": {},
   "outputs": [
    {
     "name": "stdout",
     "output_type": "stream",
     "text": [
      "📦 Total Samples: 104969\n",
      "🛠️ Training Samples: 83975\n",
      "🧪 Validation Samples: 20994\n",
      "\n",
      "📊 Class Distribution:\n",
      "  User7 -> Train: 53911 | Validation: 13478\n",
      "  User9 -> Train: 30064 | Validation: 7516\n"
     ]
    }
   ],
   "source": [
    "# Count total samples\n",
    "print(f\"📦 Total Samples: {len(X)}\")\n",
    "\n",
    "# Count train/val split\n",
    "print(f\"🛠️ Training Samples: {len(X_train)}\")\n",
    "print(f\"🧪 Validation Samples: {len(X_val)}\")\n",
    "\n",
    "# Count per user in training and validation\n",
    "from collections import Counter\n",
    "\n",
    "train_dist = Counter(y_train.tolist())\n",
    "val_dist = Counter(y_val.tolist())\n",
    "\n",
    "print(\"\\n📊 Class Distribution:\")\n",
    "for label in sorted(train_dist.keys()):\n",
    "    user = user_encoder.inverse_transform([label])[0]\n",
    "    print(f\"  {user} -> Train: {train_dist[label]} | Validation: {val_dist[label]}\")"
   ]
  },
  {
   "cell_type": "code",
   "execution_count": 18,
   "id": "2d268431",
   "metadata": {},
   "outputs": [],
   "source": [
    "import torch\n",
    "torch.save(model.state_dict(), \"behavior_model.pth\")\n"
   ]
  },
  {
   "cell_type": "code",
   "execution_count": null,
   "id": "5fb78980",
   "metadata": {},
   "outputs": [],
   "source": []
  },
  {
   "cell_type": "code",
   "execution_count": null,
   "id": "ac523d8f",
   "metadata": {},
   "outputs": [],
   "source": []
  },
  {
   "cell_type": "code",
   "execution_count": null,
   "id": "a0821e22",
   "metadata": {},
   "outputs": [],
   "source": []
  },
  {
   "cell_type": "code",
   "execution_count": null,
   "id": "1bedab90",
   "metadata": {},
   "outputs": [],
   "source": []
  },
  {
   "cell_type": "code",
   "execution_count": null,
   "id": "038349e2",
   "metadata": {},
   "outputs": [],
   "source": []
  },
  {
   "cell_type": "code",
   "execution_count": null,
   "id": "1c3b81eb",
   "metadata": {},
   "outputs": [],
   "source": []
  },
  {
   "cell_type": "code",
   "execution_count": null,
   "id": "7a7f6a01",
   "metadata": {},
   "outputs": [],
   "source": []
  },
  {
   "cell_type": "code",
   "execution_count": null,
   "id": "56cd30e0",
   "metadata": {},
   "outputs": [],
   "source": []
  },
  {
   "cell_type": "code",
   "execution_count": null,
   "id": "acee19d8",
   "metadata": {},
   "outputs": [],
   "source": []
  },
  {
   "cell_type": "code",
   "execution_count": null,
   "id": "d9f267c3",
   "metadata": {},
   "outputs": [],
   "source": []
  },
  {
   "cell_type": "code",
   "execution_count": null,
   "id": "b609a9ea",
   "metadata": {},
   "outputs": [],
   "source": []
  }
 ],
 "metadata": {
  "kernelspec": {
   "display_name": "Python 3",
   "language": "python",
   "name": "python3"
  },
  "language_info": {
   "codemirror_mode": {
    "name": "ipython",
    "version": 3
   },
   "file_extension": ".py",
   "mimetype": "text/x-python",
   "name": "python",
   "nbconvert_exporter": "python",
   "pygments_lexer": "ipython3",
   "version": "3.12.10"
  }
 },
 "nbformat": 4,
 "nbformat_minor": 5
}
